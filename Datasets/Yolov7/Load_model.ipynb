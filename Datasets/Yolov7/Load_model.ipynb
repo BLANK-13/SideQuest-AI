{
 "cells": [
  {
   "cell_type": "code",
   "execution_count": 2,
   "metadata": {},
   "outputs": [
    {
     "name": "stdout",
     "output_type": "stream",
     "text": [
      "Looking in indexes: https://download.pytorch.org/whl/cu118\n",
      "Requirement already satisfied: torch in c:\\users\\khaled\\appdata\\local\\programs\\python\\python311\\lib\\site-packages (2.0.0)\n",
      "Requirement already satisfied: torchvision in c:\\users\\khaled\\appdata\\local\\programs\\python\\python311\\lib\\site-packages (0.15.1)\n",
      "Requirement already satisfied: torchaudio in c:\\users\\khaled\\appdata\\local\\programs\\python\\python311\\lib\\site-packages (2.0.1+cu118)\n",
      "Requirement already satisfied: filelock in c:\\users\\khaled\\appdata\\local\\programs\\python\\python311\\lib\\site-packages (from torch) (3.12.0)\n",
      "Requirement already satisfied: typing-extensions in c:\\users\\khaled\\appdata\\local\\programs\\python\\python311\\lib\\site-packages (from torch) (4.5.0)\n",
      "Requirement already satisfied: sympy in c:\\users\\khaled\\appdata\\local\\programs\\python\\python311\\lib\\site-packages (from torch) (1.11.1)\n",
      "Requirement already satisfied: networkx in c:\\users\\khaled\\appdata\\local\\programs\\python\\python311\\lib\\site-packages (from torch) (3.1)\n",
      "Requirement already satisfied: jinja2 in c:\\users\\khaled\\appdata\\local\\programs\\python\\python311\\lib\\site-packages (from torch) (3.1.2)\n",
      "Requirement already satisfied: numpy in c:\\users\\khaled\\appdata\\local\\programs\\python\\python311\\lib\\site-packages (from torchvision) (1.23.5)\n",
      "Requirement already satisfied: requests in c:\\users\\khaled\\appdata\\local\\programs\\python\\python311\\lib\\site-packages (from torchvision) (2.30.0)\n",
      "Requirement already satisfied: pillow!=8.3.*,>=5.3.0 in c:\\users\\khaled\\appdata\\local\\programs\\python\\python311\\lib\\site-packages (from torchvision) (9.5.0)\n",
      "Requirement already satisfied: MarkupSafe>=2.0 in c:\\users\\khaled\\appdata\\local\\programs\\python\\python311\\lib\\site-packages (from jinja2->torch) (2.1.2)\n",
      "Requirement already satisfied: charset-normalizer<4,>=2 in c:\\users\\khaled\\appdata\\local\\programs\\python\\python311\\lib\\site-packages (from requests->torchvision) (3.1.0)\n",
      "Requirement already satisfied: idna<4,>=2.5 in c:\\users\\khaled\\appdata\\local\\programs\\python\\python311\\lib\\site-packages (from requests->torchvision) (3.4)\n",
      "Requirement already satisfied: urllib3<3,>=1.21.1 in c:\\users\\khaled\\appdata\\local\\programs\\python\\python311\\lib\\site-packages (from requests->torchvision) (2.0.2)\n",
      "Requirement already satisfied: certifi>=2017.4.17 in c:\\users\\khaled\\appdata\\local\\programs\\python\\python311\\lib\\site-packages (from requests->torchvision) (2022.12.7)\n",
      "Requirement already satisfied: mpmath>=0.19 in c:\\users\\khaled\\appdata\\local\\programs\\python\\python311\\lib\\site-packages (from sympy->torch) (1.3.0)\n"
     ]
    }
   ],
   "source": [
    "#to run this file, you need to install jupyterlab and pytorch and torch\n",
    "!pip install torch torchvision torchaudio --index-url https://download.pytorch.org/whl/cu118"
   ]
  },
  {
   "cell_type": "code",
   "execution_count": 3,
   "metadata": {},
   "outputs": [
    {
     "name": "stdout",
     "output_type": "stream",
     "text": [
      "Requirement already satisfied: matplotlib>=3.2.2 in c:\\users\\khaled\\appdata\\local\\programs\\python\\python311\\lib\\site-packages (from -r yolov7/requirements.txt (line 4)) (3.7.1)\n",
      "Requirement already satisfied: numpy<1.24.0,>=1.18.5 in c:\\users\\khaled\\appdata\\local\\programs\\python\\python311\\lib\\site-packages (from -r yolov7/requirements.txt (line 5)) (1.23.5)\n",
      "Requirement already satisfied: opencv-python>=4.1.1 in c:\\users\\khaled\\appdata\\local\\programs\\python\\python311\\lib\\site-packages (from -r yolov7/requirements.txt (line 6)) (4.7.0.72)\n",
      "Requirement already satisfied: Pillow>=7.1.2 in c:\\users\\khaled\\appdata\\local\\programs\\python\\python311\\lib\\site-packages (from -r yolov7/requirements.txt (line 7)) (9.5.0)\n",
      "Requirement already satisfied: PyYAML>=5.3.1 in c:\\users\\khaled\\appdata\\local\\programs\\python\\python311\\lib\\site-packages (from -r yolov7/requirements.txt (line 8)) (6.0)\n",
      "Requirement already satisfied: requests>=2.23.0 in c:\\users\\khaled\\appdata\\local\\programs\\python\\python311\\lib\\site-packages (from -r yolov7/requirements.txt (line 9)) (2.30.0)\n",
      "Requirement already satisfied: scipy>=1.4.1 in c:\\users\\khaled\\appdata\\local\\programs\\python\\python311\\lib\\site-packages (from -r yolov7/requirements.txt (line 10)) (1.10.1)\n",
      "Requirement already satisfied: torch!=1.12.0,>=1.7.0 in c:\\users\\khaled\\appdata\\local\\programs\\python\\python311\\lib\\site-packages (from -r yolov7/requirements.txt (line 11)) (2.0.0)\n",
      "Requirement already satisfied: torchvision!=0.13.0,>=0.8.1 in c:\\users\\khaled\\appdata\\local\\programs\\python\\python311\\lib\\site-packages (from -r yolov7/requirements.txt (line 12)) (0.15.1)\n",
      "Requirement already satisfied: tqdm>=4.41.0 in c:\\users\\khaled\\appdata\\local\\programs\\python\\python311\\lib\\site-packages (from -r yolov7/requirements.txt (line 13)) (4.65.0)\n",
      "Requirement already satisfied: protobuf<4.21.3 in c:\\users\\khaled\\appdata\\local\\programs\\python\\python311\\lib\\site-packages (from -r yolov7/requirements.txt (line 14)) (4.21.2)\n",
      "Requirement already satisfied: tensorboard>=2.4.1 in c:\\users\\khaled\\appdata\\local\\programs\\python\\python311\\lib\\site-packages (from -r yolov7/requirements.txt (line 17)) (2.12.3)\n",
      "Requirement already satisfied: pandas>=1.1.4 in c:\\users\\khaled\\appdata\\local\\programs\\python\\python311\\lib\\site-packages (from -r yolov7/requirements.txt (line 21)) (2.0.1)\n",
      "Requirement already satisfied: seaborn>=0.11.0 in c:\\users\\khaled\\appdata\\local\\programs\\python\\python311\\lib\\site-packages (from -r yolov7/requirements.txt (line 22)) (0.12.2)\n",
      "Requirement already satisfied: ipython in c:\\users\\khaled\\appdata\\local\\programs\\python\\python311\\lib\\site-packages (from -r yolov7/requirements.txt (line 34)) (8.13.2)\n",
      "Requirement already satisfied: psutil in c:\\users\\khaled\\appdata\\local\\programs\\python\\python311\\lib\\site-packages (from -r yolov7/requirements.txt (line 35)) (5.9.5)\n",
      "Requirement already satisfied: thop in c:\\users\\khaled\\appdata\\local\\programs\\python\\python311\\lib\\site-packages (from -r yolov7/requirements.txt (line 36)) (0.1.1.post2209072238)\n",
      "Requirement already satisfied: contourpy>=1.0.1 in c:\\users\\khaled\\appdata\\local\\programs\\python\\python311\\lib\\site-packages (from matplotlib>=3.2.2->-r yolov7/requirements.txt (line 4)) (1.0.7)\n",
      "Requirement already satisfied: cycler>=0.10 in c:\\users\\khaled\\appdata\\local\\programs\\python\\python311\\lib\\site-packages (from matplotlib>=3.2.2->-r yolov7/requirements.txt (line 4)) (0.11.0)\n",
      "Requirement already satisfied: fonttools>=4.22.0 in c:\\users\\khaled\\appdata\\local\\programs\\python\\python311\\lib\\site-packages (from matplotlib>=3.2.2->-r yolov7/requirements.txt (line 4)) (4.39.3)\n",
      "Requirement already satisfied: kiwisolver>=1.0.1 in c:\\users\\khaled\\appdata\\local\\programs\\python\\python311\\lib\\site-packages (from matplotlib>=3.2.2->-r yolov7/requirements.txt (line 4)) (1.4.4)\n",
      "Requirement already satisfied: packaging>=20.0 in c:\\users\\khaled\\appdata\\local\\programs\\python\\python311\\lib\\site-packages (from matplotlib>=3.2.2->-r yolov7/requirements.txt (line 4)) (23.1)\n",
      "Requirement already satisfied: pyparsing>=2.3.1 in c:\\users\\khaled\\appdata\\local\\programs\\python\\python311\\lib\\site-packages (from matplotlib>=3.2.2->-r yolov7/requirements.txt (line 4)) (3.0.9)\n",
      "Requirement already satisfied: python-dateutil>=2.7 in c:\\users\\khaled\\appdata\\local\\programs\\python\\python311\\lib\\site-packages (from matplotlib>=3.2.2->-r yolov7/requirements.txt (line 4)) (2.8.2)\n",
      "Requirement already satisfied: charset-normalizer<4,>=2 in c:\\users\\khaled\\appdata\\local\\programs\\python\\python311\\lib\\site-packages (from requests>=2.23.0->-r yolov7/requirements.txt (line 9)) (3.1.0)\n",
      "Requirement already satisfied: idna<4,>=2.5 in c:\\users\\khaled\\appdata\\local\\programs\\python\\python311\\lib\\site-packages (from requests>=2.23.0->-r yolov7/requirements.txt (line 9)) (3.4)\n",
      "Requirement already satisfied: urllib3<3,>=1.21.1 in c:\\users\\khaled\\appdata\\local\\programs\\python\\python311\\lib\\site-packages (from requests>=2.23.0->-r yolov7/requirements.txt (line 9)) (2.0.2)\n",
      "Requirement already satisfied: certifi>=2017.4.17 in c:\\users\\khaled\\appdata\\local\\programs\\python\\python311\\lib\\site-packages (from requests>=2.23.0->-r yolov7/requirements.txt (line 9)) (2022.12.7)\n",
      "Requirement already satisfied: filelock in c:\\users\\khaled\\appdata\\local\\programs\\python\\python311\\lib\\site-packages (from torch!=1.12.0,>=1.7.0->-r yolov7/requirements.txt (line 11)) (3.12.0)\n",
      "Requirement already satisfied: typing-extensions in c:\\users\\khaled\\appdata\\local\\programs\\python\\python311\\lib\\site-packages (from torch!=1.12.0,>=1.7.0->-r yolov7/requirements.txt (line 11)) (4.5.0)\n",
      "Requirement already satisfied: sympy in c:\\users\\khaled\\appdata\\local\\programs\\python\\python311\\lib\\site-packages (from torch!=1.12.0,>=1.7.0->-r yolov7/requirements.txt (line 11)) (1.11.1)\n",
      "Requirement already satisfied: networkx in c:\\users\\khaled\\appdata\\local\\programs\\python\\python311\\lib\\site-packages (from torch!=1.12.0,>=1.7.0->-r yolov7/requirements.txt (line 11)) (3.1)\n",
      "Requirement already satisfied: jinja2 in c:\\users\\khaled\\appdata\\local\\programs\\python\\python311\\lib\\site-packages (from torch!=1.12.0,>=1.7.0->-r yolov7/requirements.txt (line 11)) (3.1.2)\n",
      "Requirement already satisfied: colorama in c:\\users\\khaled\\appdata\\local\\programs\\python\\python311\\lib\\site-packages (from tqdm>=4.41.0->-r yolov7/requirements.txt (line 13)) (0.4.6)\n",
      "Requirement already satisfied: absl-py>=0.4 in c:\\users\\khaled\\appdata\\local\\programs\\python\\python311\\lib\\site-packages (from tensorboard>=2.4.1->-r yolov7/requirements.txt (line 17)) (1.4.0)\n",
      "Requirement already satisfied: grpcio>=1.48.2 in c:\\users\\khaled\\appdata\\local\\programs\\python\\python311\\lib\\site-packages (from tensorboard>=2.4.1->-r yolov7/requirements.txt (line 17)) (1.54.0)\n",
      "Requirement already satisfied: google-auth<3,>=1.6.3 in c:\\users\\khaled\\appdata\\local\\programs\\python\\python311\\lib\\site-packages (from tensorboard>=2.4.1->-r yolov7/requirements.txt (line 17)) (2.17.3)\n",
      "Requirement already satisfied: google-auth-oauthlib<1.1,>=0.5 in c:\\users\\khaled\\appdata\\local\\programs\\python\\python311\\lib\\site-packages (from tensorboard>=2.4.1->-r yolov7/requirements.txt (line 17)) (1.0.0)\n",
      "Requirement already satisfied: markdown>=2.6.8 in c:\\users\\khaled\\appdata\\local\\programs\\python\\python311\\lib\\site-packages (from tensorboard>=2.4.1->-r yolov7/requirements.txt (line 17)) (3.4.3)\n",
      "Requirement already satisfied: setuptools>=41.0.0 in c:\\users\\khaled\\appdata\\local\\programs\\python\\python311\\lib\\site-packages (from tensorboard>=2.4.1->-r yolov7/requirements.txt (line 17)) (65.5.0)\n",
      "Requirement already satisfied: tensorboard-data-server<0.8.0,>=0.7.0 in c:\\users\\khaled\\appdata\\local\\programs\\python\\python311\\lib\\site-packages (from tensorboard>=2.4.1->-r yolov7/requirements.txt (line 17)) (0.7.0)\n",
      "Requirement already satisfied: werkzeug>=1.0.1 in c:\\users\\khaled\\appdata\\local\\programs\\python\\python311\\lib\\site-packages (from tensorboard>=2.4.1->-r yolov7/requirements.txt (line 17)) (2.3.3)\n",
      "Requirement already satisfied: wheel>=0.26 in c:\\users\\khaled\\appdata\\local\\programs\\python\\python311\\lib\\site-packages (from tensorboard>=2.4.1->-r yolov7/requirements.txt (line 17)) (0.40.0)\n",
      "Requirement already satisfied: pytz>=2020.1 in c:\\users\\khaled\\appdata\\local\\programs\\python\\python311\\lib\\site-packages (from pandas>=1.1.4->-r yolov7/requirements.txt (line 21)) (2023.3)\n",
      "Requirement already satisfied: tzdata>=2022.1 in c:\\users\\khaled\\appdata\\local\\programs\\python\\python311\\lib\\site-packages (from pandas>=1.1.4->-r yolov7/requirements.txt (line 21)) (2023.3)\n",
      "Requirement already satisfied: backcall in c:\\users\\khaled\\appdata\\local\\programs\\python\\python311\\lib\\site-packages (from ipython->-r yolov7/requirements.txt (line 34)) (0.2.0)\n",
      "Requirement already satisfied: decorator in c:\\users\\khaled\\appdata\\local\\programs\\python\\python311\\lib\\site-packages (from ipython->-r yolov7/requirements.txt (line 34)) (5.1.1)\n",
      "Requirement already satisfied: jedi>=0.16 in c:\\users\\khaled\\appdata\\local\\programs\\python\\python311\\lib\\site-packages (from ipython->-r yolov7/requirements.txt (line 34)) (0.18.2)\n",
      "Requirement already satisfied: matplotlib-inline in c:\\users\\khaled\\appdata\\local\\programs\\python\\python311\\lib\\site-packages (from ipython->-r yolov7/requirements.txt (line 34)) (0.1.6)\n",
      "Requirement already satisfied: pickleshare in c:\\users\\khaled\\appdata\\local\\programs\\python\\python311\\lib\\site-packages (from ipython->-r yolov7/requirements.txt (line 34)) (0.7.5)\n",
      "Requirement already satisfied: prompt-toolkit!=3.0.37,<3.1.0,>=3.0.30 in c:\\users\\khaled\\appdata\\local\\programs\\python\\python311\\lib\\site-packages (from ipython->-r yolov7/requirements.txt (line 34)) (3.0.38)\n",
      "Requirement already satisfied: pygments>=2.4.0 in c:\\users\\khaled\\appdata\\local\\programs\\python\\python311\\lib\\site-packages (from ipython->-r yolov7/requirements.txt (line 34)) (2.15.1)\n",
      "Requirement already satisfied: stack-data in c:\\users\\khaled\\appdata\\local\\programs\\python\\python311\\lib\\site-packages (from ipython->-r yolov7/requirements.txt (line 34)) (0.6.2)\n",
      "Requirement already satisfied: traitlets>=5 in c:\\users\\khaled\\appdata\\local\\programs\\python\\python311\\lib\\site-packages (from ipython->-r yolov7/requirements.txt (line 34)) (5.9.0)\n",
      "Requirement already satisfied: cachetools<6.0,>=2.0.0 in c:\\users\\khaled\\appdata\\local\\programs\\python\\python311\\lib\\site-packages (from google-auth<3,>=1.6.3->tensorboard>=2.4.1->-r yolov7/requirements.txt (line 17)) (5.3.0)\n",
      "Requirement already satisfied: pyasn1-modules>=0.2.1 in c:\\users\\khaled\\appdata\\local\\programs\\python\\python311\\lib\\site-packages (from google-auth<3,>=1.6.3->tensorboard>=2.4.1->-r yolov7/requirements.txt (line 17)) (0.3.0)\n",
      "Requirement already satisfied: six>=1.9.0 in c:\\users\\khaled\\appdata\\local\\programs\\python\\python311\\lib\\site-packages (from google-auth<3,>=1.6.3->tensorboard>=2.4.1->-r yolov7/requirements.txt (line 17)) (1.16.0)\n",
      "Requirement already satisfied: rsa<5,>=3.1.4 in c:\\users\\khaled\\appdata\\local\\programs\\python\\python311\\lib\\site-packages (from google-auth<3,>=1.6.3->tensorboard>=2.4.1->-r yolov7/requirements.txt (line 17)) (4.9)\n",
      "Requirement already satisfied: requests-oauthlib>=0.7.0 in c:\\users\\khaled\\appdata\\local\\programs\\python\\python311\\lib\\site-packages (from google-auth-oauthlib<1.1,>=0.5->tensorboard>=2.4.1->-r yolov7/requirements.txt (line 17)) (1.3.1)\n",
      "Requirement already satisfied: parso<0.9.0,>=0.8.0 in c:\\users\\khaled\\appdata\\local\\programs\\python\\python311\\lib\\site-packages (from jedi>=0.16->ipython->-r yolov7/requirements.txt (line 34)) (0.8.3)\n",
      "Requirement already satisfied: wcwidth in c:\\users\\khaled\\appdata\\local\\programs\\python\\python311\\lib\\site-packages (from prompt-toolkit!=3.0.37,<3.1.0,>=3.0.30->ipython->-r yolov7/requirements.txt (line 34)) (0.2.6)\n",
      "Requirement already satisfied: MarkupSafe>=2.1.1 in c:\\users\\khaled\\appdata\\local\\programs\\python\\python311\\lib\\site-packages (from werkzeug>=1.0.1->tensorboard>=2.4.1->-r yolov7/requirements.txt (line 17)) (2.1.2)\n",
      "Requirement already satisfied: executing>=1.2.0 in c:\\users\\khaled\\appdata\\local\\programs\\python\\python311\\lib\\site-packages (from stack-data->ipython->-r yolov7/requirements.txt (line 34)) (1.2.0)\n",
      "Requirement already satisfied: asttokens>=2.1.0 in c:\\users\\khaled\\appdata\\local\\programs\\python\\python311\\lib\\site-packages (from stack-data->ipython->-r yolov7/requirements.txt (line 34)) (2.2.1)\n",
      "Requirement already satisfied: pure-eval in c:\\users\\khaled\\appdata\\local\\programs\\python\\python311\\lib\\site-packages (from stack-data->ipython->-r yolov7/requirements.txt (line 34)) (0.2.2)\n",
      "Requirement already satisfied: mpmath>=0.19 in c:\\users\\khaled\\appdata\\local\\programs\\python\\python311\\lib\\site-packages (from sympy->torch!=1.12.0,>=1.7.0->-r yolov7/requirements.txt (line 11)) (1.3.0)\n",
      "Requirement already satisfied: pyasn1<0.6.0,>=0.4.6 in c:\\users\\khaled\\appdata\\local\\programs\\python\\python311\\lib\\site-packages (from pyasn1-modules>=0.2.1->google-auth<3,>=1.6.3->tensorboard>=2.4.1->-r yolov7/requirements.txt (line 17)) (0.5.0)\n",
      "Requirement already satisfied: oauthlib>=3.0.0 in c:\\users\\khaled\\appdata\\local\\programs\\python\\python311\\lib\\site-packages (from requests-oauthlib>=0.7.0->google-auth-oauthlib<1.1,>=0.5->tensorboard>=2.4.1->-r yolov7/requirements.txt (line 17)) (3.2.2)\n",
      "Note: you may need to restart the kernel to use updated packages.\n"
     ]
    }
   ],
   "source": [
    "#install the requiremed packages\n",
    "%pip install -r yolov7/requirements.txt"
   ]
  },
  {
   "cell_type": "code",
   "execution_count": 7,
   "metadata": {},
   "outputs": [
    {
     "name": "stdout",
     "output_type": "stream",
     "text": [
      "Collecting numpy==1.23.5\n",
      "  Downloading numpy-1.23.5-cp310-cp310-macosx_11_0_arm64.whl (13.4 MB)\n",
      "\u001b[2K     \u001b[90m━━━━━━━━━━━━━━━━━━━━━━━━━━━━━━━━━━━━━━━━\u001b[0m \u001b[32m13.4/13.4 MB\u001b[0m \u001b[31m50.8 MB/s\u001b[0m eta \u001b[36m0:00:00\u001b[0m00:01\u001b[0m00:01\u001b[0m\n",
      "\u001b[?25hInstalling collected packages: numpy\n",
      "  Attempting uninstall: numpy\n",
      "    Found existing installation: numpy 1.22.2\n",
      "    Uninstalling numpy-1.22.2:\n",
      "      Successfully uninstalled numpy-1.22.2\n",
      "Successfully installed numpy-1.23.5\n"
     ]
    }
   ],
   "source": [
    "# install numpy 1.23.5\n",
    "!pip install numpy==1.23.5"
   ]
  },
  {
   "cell_type": "code",
   "execution_count": 4,
   "metadata": {},
   "outputs": [
    {
     "name": "stdout",
     "output_type": "stream",
     "text": [
      "1.23.5\n"
     ]
    }
   ],
   "source": [
    "import torch\n",
    "from matplotlib import pyplot as plt\n",
    "import numpy as np\n",
    "print(np.version.version) #1.23.5"
   ]
  },
  {
   "cell_type": "code",
   "execution_count": 5,
   "metadata": {},
   "outputs": [
    {
     "name": "stderr",
     "output_type": "stream",
     "text": [
      "\n",
      "                 from  n    params  module                                  arguments                     \n",
      "  0                -1  1       928  models.common.Conv                      [3, 32, 3, 1]                 \n",
      "  1                -1  1     18560  models.common.Conv                      [32, 64, 3, 2]                \n",
      "  2                -1  1     36992  models.common.Conv                      [64, 64, 3, 1]                \n",
      "  3                -1  1     73984  models.common.Conv                      [64, 128, 3, 2]               \n",
      "  4                -1  1      8320  models.common.Conv                      [128, 64, 1, 1]               \n",
      "  5                -2  1      8320  models.common.Conv                      [128, 64, 1, 1]               \n",
      "  6                -1  1     36992  models.common.Conv                      [64, 64, 3, 1]                \n",
      "  7                -1  1     36992  models.common.Conv                      [64, 64, 3, 1]                \n",
      "  8                -1  1     36992  models.common.Conv                      [64, 64, 3, 1]                \n",
      "  9                -1  1     36992  models.common.Conv                      [64, 64, 3, 1]                \n",
      " 10  [-1, -3, -5, -6]  1         0  models.common.Concat                    [1]                           \n",
      " 11                -1  1     66048  models.common.Conv                      [256, 256, 1, 1]              \n",
      " 12                -1  1         0  models.common.MP                        []                            \n",
      " 13                -1  1     33024  models.common.Conv                      [256, 128, 1, 1]              \n",
      " 14                -3  1     33024  models.common.Conv                      [256, 128, 1, 1]              \n",
      " 15                -1  1    147712  models.common.Conv                      [128, 128, 3, 2]              \n",
      " 16          [-1, -3]  1         0  models.common.Concat                    [1]                           \n",
      " 17                -1  1     33024  models.common.Conv                      [256, 128, 1, 1]              \n",
      " 18                -2  1     33024  models.common.Conv                      [256, 128, 1, 1]              \n",
      " 19                -1  1    147712  models.common.Conv                      [128, 128, 3, 1]              \n",
      " 20                -1  1    147712  models.common.Conv                      [128, 128, 3, 1]              \n",
      " 21                -1  1    147712  models.common.Conv                      [128, 128, 3, 1]              \n",
      " 22                -1  1    147712  models.common.Conv                      [128, 128, 3, 1]              \n",
      " 23  [-1, -3, -5, -6]  1         0  models.common.Concat                    [1]                           \n",
      " 24                -1  1    263168  models.common.Conv                      [512, 512, 1, 1]              \n",
      " 25                -1  1         0  models.common.MP                        []                            \n",
      " 26                -1  1    131584  models.common.Conv                      [512, 256, 1, 1]              \n",
      " 27                -3  1    131584  models.common.Conv                      [512, 256, 1, 1]              \n",
      " 28                -1  1    590336  models.common.Conv                      [256, 256, 3, 2]              \n",
      " 29          [-1, -3]  1         0  models.common.Concat                    [1]                           \n",
      " 30                -1  1    131584  models.common.Conv                      [512, 256, 1, 1]              \n",
      " 31                -2  1    131584  models.common.Conv                      [512, 256, 1, 1]              \n",
      " 32                -1  1    590336  models.common.Conv                      [256, 256, 3, 1]              \n",
      " 33                -1  1    590336  models.common.Conv                      [256, 256, 3, 1]              \n",
      " 34                -1  1    590336  models.common.Conv                      [256, 256, 3, 1]              \n",
      " 35                -1  1    590336  models.common.Conv                      [256, 256, 3, 1]              \n",
      " 36  [-1, -3, -5, -6]  1         0  models.common.Concat                    [1]                           \n",
      " 37                -1  1   1050624  models.common.Conv                      [1024, 1024, 1, 1]            \n",
      " 38                -1  1         0  models.common.MP                        []                            \n",
      " 39                -1  1    525312  models.common.Conv                      [1024, 512, 1, 1]             \n",
      " 40                -3  1    525312  models.common.Conv                      [1024, 512, 1, 1]             \n",
      " 41                -1  1   2360320  models.common.Conv                      [512, 512, 3, 2]              \n",
      " 42          [-1, -3]  1         0  models.common.Concat                    [1]                           \n",
      " 43                -1  1    262656  models.common.Conv                      [1024, 256, 1, 1]             \n",
      " 44                -2  1    262656  models.common.Conv                      [1024, 256, 1, 1]             \n",
      " 45                -1  1    590336  models.common.Conv                      [256, 256, 3, 1]              \n",
      " 46                -1  1    590336  models.common.Conv                      [256, 256, 3, 1]              \n",
      " 47                -1  1    590336  models.common.Conv                      [256, 256, 3, 1]              \n",
      " 48                -1  1    590336  models.common.Conv                      [256, 256, 3, 1]              \n",
      " 49  [-1, -3, -5, -6]  1         0  models.common.Concat                    [1]                           \n",
      " 50                -1  1   1050624  models.common.Conv                      [1024, 1024, 1, 1]            \n",
      " 51                -1  1   7609344  models.common.SPPCSPC                   [1024, 512, 1]                \n",
      " 52                -1  1    131584  models.common.Conv                      [512, 256, 1, 1]              \n",
      " 53                -1  1         0  torch.nn.modules.upsampling.Upsample    [None, 2, 'nearest']          \n",
      " 54                37  1    262656  models.common.Conv                      [1024, 256, 1, 1]             \n",
      " 55          [-1, -2]  1         0  models.common.Concat                    [1]                           \n",
      " 56                -1  1    131584  models.common.Conv                      [512, 256, 1, 1]              \n",
      " 57                -2  1    131584  models.common.Conv                      [512, 256, 1, 1]              \n",
      " 58                -1  1    295168  models.common.Conv                      [256, 128, 3, 1]              \n",
      " 59                -1  1    147712  models.common.Conv                      [128, 128, 3, 1]              \n",
      " 60                -1  1    147712  models.common.Conv                      [128, 128, 3, 1]              \n",
      " 61                -1  1    147712  models.common.Conv                      [128, 128, 3, 1]              \n",
      " 62[-1, -2, -3, -4, -5, -6]  1         0  models.common.Concat                    [1]                           \n",
      " 63                -1  1    262656  models.common.Conv                      [1024, 256, 1, 1]             \n",
      " 64                -1  1     33024  models.common.Conv                      [256, 128, 1, 1]              \n",
      " 65                -1  1         0  torch.nn.modules.upsampling.Upsample    [None, 2, 'nearest']          \n",
      " 66                24  1     65792  models.common.Conv                      [512, 128, 1, 1]              \n",
      " 67          [-1, -2]  1         0  models.common.Concat                    [1]                           \n",
      " 68                -1  1     33024  models.common.Conv                      [256, 128, 1, 1]              \n",
      " 69                -2  1     33024  models.common.Conv                      [256, 128, 1, 1]              \n",
      " 70                -1  1     73856  models.common.Conv                      [128, 64, 3, 1]               \n",
      " 71                -1  1     36992  models.common.Conv                      [64, 64, 3, 1]                \n",
      " 72                -1  1     36992  models.common.Conv                      [64, 64, 3, 1]                \n",
      " 73                -1  1     36992  models.common.Conv                      [64, 64, 3, 1]                \n",
      " 74[-1, -2, -3, -4, -5, -6]  1         0  models.common.Concat                    [1]                           \n",
      " 75                -1  1     65792  models.common.Conv                      [512, 128, 1, 1]              \n",
      " 76                -1  1         0  models.common.MP                        []                            \n",
      " 77                -1  1     16640  models.common.Conv                      [128, 128, 1, 1]              \n",
      " 78                -3  1     16640  models.common.Conv                      [128, 128, 1, 1]              \n",
      " 79                -1  1    147712  models.common.Conv                      [128, 128, 3, 2]              \n",
      " 80      [-1, -3, 63]  1         0  models.common.Concat                    [1]                           \n",
      " 81                -1  1    131584  models.common.Conv                      [512, 256, 1, 1]              \n",
      " 82                -2  1    131584  models.common.Conv                      [512, 256, 1, 1]              \n",
      " 83                -1  1    295168  models.common.Conv                      [256, 128, 3, 1]              \n",
      " 84                -1  1    147712  models.common.Conv                      [128, 128, 3, 1]              \n",
      " 85                -1  1    147712  models.common.Conv                      [128, 128, 3, 1]              \n",
      " 86                -1  1    147712  models.common.Conv                      [128, 128, 3, 1]              \n",
      " 87[-1, -2, -3, -4, -5, -6]  1         0  models.common.Concat                    [1]                           \n",
      " 88                -1  1    262656  models.common.Conv                      [1024, 256, 1, 1]             \n",
      " 89                -1  1         0  models.common.MP                        []                            \n",
      " 90                -1  1     66048  models.common.Conv                      [256, 256, 1, 1]              \n",
      " 91                -3  1     66048  models.common.Conv                      [256, 256, 1, 1]              \n",
      " 92                -1  1    590336  models.common.Conv                      [256, 256, 3, 2]              \n",
      " 93      [-1, -3, 51]  1         0  models.common.Concat                    [1]                           \n",
      " 94                -1  1    525312  models.common.Conv                      [1024, 512, 1, 1]             \n",
      " 95                -2  1    525312  models.common.Conv                      [1024, 512, 1, 1]             \n",
      " 96                -1  1   1180160  models.common.Conv                      [512, 256, 3, 1]              \n",
      " 97                -1  1    590336  models.common.Conv                      [256, 256, 3, 1]              \n",
      " 98                -1  1    590336  models.common.Conv                      [256, 256, 3, 1]              \n",
      " 99                -1  1    590336  models.common.Conv                      [256, 256, 3, 1]              \n",
      "100[-1, -2, -3, -4, -5, -6]  1         0  models.common.Concat                    [1]                           \n",
      "101                -1  1   1049600  models.common.Conv                      [2048, 512, 1, 1]             \n",
      "102                75  1    328704  models.common.RepConv                   [128, 256, 3, 1]              \n",
      "103                88  1   1312768  models.common.RepConv                   [256, 512, 3, 1]              \n",
      "104               101  1   5246976  models.common.RepConv                   [512, 1024, 3, 1]             \n",
      "105   [102, 103, 104]  1    457725  models.yolo.Detect                      [80, [[12, 16, 19, 36, 40, 28], [36, 75, 76, 55, 72, 146], [142, 110, 192, 243, 459, 401]], [256, 512, 1024]]\n",
      "c:\\Users\\Khaled\\AppData\\Local\\Programs\\Python\\Python311\\Lib\\site-packages\\torch\\functional.py:504: UserWarning: torch.meshgrid: in an upcoming release, it will be required to pass the indexing argument. (Triggered internally at ..\\aten\\src\\ATen\\native\\TensorShape.cpp:3484.)\n",
      "  return _VF.meshgrid(tensors, **kwargs)  # type: ignore[attr-defined]\n",
      "Model Summary: 407 layers, 37620125 parameters, 37620125 gradients, 106.5 GFLOPS\n",
      "\n",
      "YOLOR  0bd49c8 torch 2.0.0+cpu CPU\n",
      "\n"
     ]
    },
    {
     "name": "stdout",
     "output_type": "stream",
     "text": [
      "Adding autoShape... \n"
     ]
    }
   ],
   "source": [
    "#loading the model\n",
    "model = torch.hub.load('yolov7', 'custom', 'yolov7/yolov7.pt', source='local',force_reload = True)"
   ]
  },
  {
   "cell_type": "code",
   "execution_count": 6,
   "metadata": {},
   "outputs": [],
   "source": [
    "pos = [(200, 200, 1000, 700),#upper left\n",
    "    (200, 900, 1000, 1350),#lower left\n",
    "    (1500, 900, 2350, 1350),#lower right\n",
    "    (1200, 110, 1900, 500)] #upper right"
   ]
  },
  {
   "cell_type": "code",
   "execution_count": 7,
   "metadata": {},
   "outputs": [
    {
     "ename": "KeyboardInterrupt",
     "evalue": "",
     "output_type": "error",
     "traceback": [
      "\u001b[1;31m---------------------------------------------------------------------------\u001b[0m",
      "\u001b[1;31mKeyboardInterrupt\u001b[0m                         Traceback (most recent call last)",
      "Cell \u001b[1;32mIn[7], line 10\u001b[0m\n\u001b[0;32m      7\u001b[0m results \u001b[39m=\u001b[39m model(RGB_img)\n\u001b[0;32m      8\u001b[0m cv2\u001b[39m.\u001b[39mimshow(\u001b[39m'\u001b[39m\u001b[39mPython Window\u001b[39m\u001b[39m'\u001b[39m, np\u001b[39m.\u001b[39msqueeze(results\u001b[39m.\u001b[39mrender()))\n\u001b[1;32m---> 10\u001b[0m \u001b[39mif\u001b[39;00m cv2\u001b[39m.\u001b[39;49mwaitKey(\u001b[39m25\u001b[39;49m) \u001b[39m&\u001b[39m \u001b[39m0xFF\u001b[39m \u001b[39m==\u001b[39m \u001b[39mord\u001b[39m(\u001b[39m'\u001b[39m\u001b[39mq\u001b[39m\u001b[39m'\u001b[39m):\n\u001b[0;32m     11\u001b[0m     cv2\u001b[39m.\u001b[39mdestroyAllWindows()\n\u001b[0;32m     12\u001b[0m     \u001b[39mbreak\u001b[39;00m\n",
      "\u001b[1;31mKeyboardInterrupt\u001b[0m: "
     ]
    },
    {
     "ename": "",
     "evalue": "",
     "output_type": "error",
     "traceback": [
      "\u001b[1;31mThe Kernel crashed while executing code in the the current cell or a previous cell. Please review the code in the cell(s) to identify a possible cause of the failure. Click <a href='https://aka.ms/vscodeJupyterKernelCrash'>here</a> for more info. View Jupyter <a href='command:jupyter.viewOutput'>log</a> for further details."
     ]
    }
   ],
   "source": [
    "from PIL import ImageGrab\n",
    "import cv2\n",
    "model.conf = 0.60\n",
    "while True:\n",
    "    screen = np.array(ImageGrab.grab(bbox=(pos[1])))\n",
    "    RGB_img = cv2.cvtColor(screen, cv2.COLOR_BGR2RGB)\n",
    "    results = model(RGB_img)\n",
    "    cv2.imshow('Python Window', np.squeeze(results.render()))\n",
    "\n",
    "    if cv2.waitKey(25) & 0xFF == ord('q'):\n",
    "        cv2.destroyAllWindows()\n",
    "        break"
   ]
  }
 ],
 "metadata": {
  "kernelspec": {
   "display_name": "Python 3",
   "language": "python",
   "name": "python3"
  },
  "language_info": {
   "codemirror_mode": {
    "name": "ipython",
    "version": 3
   },
   "file_extension": ".py",
   "mimetype": "text/x-python",
   "name": "python",
   "nbconvert_exporter": "python",
   "pygments_lexer": "ipython3",
   "version": "3.11.3"
  },
  "vscode": {
   "interpreter": {
    "hash": "aee8b7b246df8f9039afb4144a1f6fd8d2ca17a180786b69acc140d282b71a49"
   }
  }
 },
 "nbformat": 4,
 "nbformat_minor": 2
}
